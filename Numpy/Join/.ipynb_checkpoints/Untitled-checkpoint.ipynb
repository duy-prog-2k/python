{
 "cells": [
  {
   "cell_type": "code",
   "execution_count": 2,
   "id": "0a5b840f",
   "metadata": {},
   "outputs": [],
   "source": [
    "import numpy as np"
   ]
  },
  {
   "cell_type": "code",
   "execution_count": 5,
   "id": "cf1ccf85",
   "metadata": {},
   "outputs": [
    {
     "name": "stdout",
     "output_type": "stream",
     "text": [
      "[1 2 3 3 4 6]\n"
     ]
    }
   ],
   "source": [
    "# join two arr \n",
    "arr1 = np.array([1, 2, 3])\n",
    "arr2 = np.array([3, 4, 6])\n",
    "arr = np.concatenate((arr1, arr2))\n",
    "print(arr)"
   ]
  },
  {
   "cell_type": "code",
   "execution_count": 6,
   "id": "bfdb10eb",
   "metadata": {},
   "outputs": [
    {
     "name": "stdout",
     "output_type": "stream",
     "text": [
      "[[1 2 3 2 5 6]\n",
      " [2 3 4 6 3 8]]\n"
     ]
    }
   ],
   "source": [
    "# join two arr 2d \n",
    "arr3 = np.array([[1, 2, 3], [2, 3, 4]])\n",
    "arr4 = np.array([[2, 5, 6], [6, 3, 8]])\n",
    "arr = np.concatenate((arr3, arr4), axis = 1)\n",
    "print(arr)"
   ]
  }
 ],
 "metadata": {
  "kernelspec": {
   "display_name": "Python 3 (ipykernel)",
   "language": "python",
   "name": "python3"
  },
  "language_info": {
   "codemirror_mode": {
    "name": "ipython",
    "version": 3
   },
   "file_extension": ".py",
   "mimetype": "text/x-python",
   "name": "python",
   "nbconvert_exporter": "python",
   "pygments_lexer": "ipython3",
   "version": "3.9.6"
  }
 },
 "nbformat": 4,
 "nbformat_minor": 5
}
