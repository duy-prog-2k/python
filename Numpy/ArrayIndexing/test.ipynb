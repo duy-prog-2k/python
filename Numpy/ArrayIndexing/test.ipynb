{
 "cells": [
  {
   "cell_type": "code",
   "execution_count": null,
   "source": [
    "import numpy as np "
   ],
   "outputs": [],
   "metadata": {}
  },
  {
   "cell_type": "code",
   "execution_count": null,
   "source": [
    "# Scalar \r\n",
    "scalar_x = np.array(3)"
   ],
   "outputs": [],
   "metadata": {}
  },
  {
   "cell_type": "code",
   "execution_count": null,
   "source": [
    "# Mảng 1 chiều \r\n",
    "arr_1d = np.array([1,2,3,4,5])\r\n",
    "arr_1d"
   ],
   "outputs": [],
   "metadata": {}
  },
  {
   "cell_type": "code",
   "execution_count": null,
   "source": [
    "# Mảng 2 chiều \r\n",
    "arr_2d = np.array([ [1, 2, 3], [4, 5, 6] ])\r\n",
    "arr_2d"
   ],
   "outputs": [],
   "metadata": {}
  },
  {
   "cell_type": "code",
   "execution_count": null,
   "source": [
    "# Mảng 3 chiều \r\n",
    "arr_3d = np.array([[[1, 2, 3], [4, 5, 6]], [[1, 2, 3], [4, 5, 6]]])\r\n",
    "arr_3d"
   ],
   "outputs": [],
   "metadata": {}
  },
  {
   "cell_type": "code",
   "execution_count": null,
   "source": [
    "# Kiểm tra chiều của array \r\n",
    "print(arr_1d.ndim)\r\n",
    "print(arr_2d.ndim)\r\n",
    "print(arr_3d.ndim)"
   ],
   "outputs": [],
   "metadata": {}
  },
  {
   "cell_type": "code",
   "execution_count": null,
   "source": [
    "# Access array by indexing \r\n",
    "# 1d \r\n",
    "arr_1d[2] # output: 3"
   ],
   "outputs": [],
   "metadata": {}
  },
  {
   "cell_type": "code",
   "execution_count": null,
   "source": [
    "# 2d \r\n",
    "arr_2d[0, 1] # output: 2"
   ],
   "outputs": [],
   "metadata": {}
  },
  {
   "cell_type": "code",
   "execution_count": null,
   "source": [
    "# 3d \r\n"
   ],
   "outputs": [],
   "metadata": {}
  }
 ],
 "metadata": {
  "kernelspec": {
   "name": "python3",
   "display_name": "Python 3.9.6 64-bit"
  },
  "language_info": {
   "codemirror_mode": {
    "name": "ipython",
    "version": 3
   },
   "file_extension": ".py",
   "mimetype": "text/x-python",
   "name": "python",
   "nbconvert_exporter": "python",
   "pygments_lexer": "ipython3",
   "version": "3.9.6"
  },
  "interpreter": {
   "hash": "e96f3d9d46cdefc766ed1dad262ce64f87c4240b59b297a62a5fcd113f6a3a34"
  }
 },
 "nbformat": 4,
 "nbformat_minor": 5
}