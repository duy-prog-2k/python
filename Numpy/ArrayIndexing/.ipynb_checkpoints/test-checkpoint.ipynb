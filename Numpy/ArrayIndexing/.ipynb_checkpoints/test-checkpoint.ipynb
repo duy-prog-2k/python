{
 "cells": [
  {
   "cell_type": "code",
   "execution_count": 1,
   "id": "223557c5",
   "metadata": {},
   "outputs": [],
   "source": [
    "import numpy as np "
   ]
  },
  {
   "cell_type": "code",
   "execution_count": 2,
   "id": "af7af286",
   "metadata": {},
   "outputs": [],
   "source": [
    "# Scalar \n",
    "scalar_x = np.array(3)"
   ]
  },
  {
   "cell_type": "code",
   "execution_count": 3,
   "id": "2b390b6c",
   "metadata": {},
   "outputs": [
    {
     "data": {
      "text/plain": [
       "array([1, 2, 3, 4, 5])"
      ]
     },
     "execution_count": 3,
     "metadata": {},
     "output_type": "execute_result"
    }
   ],
   "source": [
    "# Mảng 1 chiều \n",
    "arr_1d = np.array([1,2,3,4,5])\n",
    "arr_1d"
   ]
  },
  {
   "cell_type": "code",
   "execution_count": 4,
   "id": "6cfdf542",
   "metadata": {},
   "outputs": [
    {
     "data": {
      "text/plain": [
       "array([[1, 2, 3],\n",
       "       [4, 5, 6]])"
      ]
     },
     "execution_count": 4,
     "metadata": {},
     "output_type": "execute_result"
    }
   ],
   "source": [
    "# Mảng 2 chiều \n",
    "arr_2d = np.array([ [1, 2, 3], [4, 5, 6] ])\n",
    "arr_2d"
   ]
  },
  {
   "cell_type": "code",
   "execution_count": 5,
   "id": "dffa748a",
   "metadata": {},
   "outputs": [
    {
     "data": {
      "text/plain": [
       "array([[[1, 2, 3],\n",
       "        [4, 5, 6]],\n",
       "\n",
       "       [[1, 2, 3],\n",
       "        [4, 5, 6]]])"
      ]
     },
     "execution_count": 5,
     "metadata": {},
     "output_type": "execute_result"
    }
   ],
   "source": [
    "# Mảng 3 chiều \n",
    "arr_3d = np.array([[[1, 2, 3], [4, 5, 6]], [[1, 2, 3], [4, 5, 6]]])\n",
    "arr_3d"
   ]
  },
  {
   "cell_type": "code",
   "execution_count": 6,
   "id": "952ac4b8",
   "metadata": {},
   "outputs": [
    {
     "name": "stdout",
     "output_type": "stream",
     "text": [
      "1\n",
      "2\n",
      "3\n"
     ]
    }
   ],
   "source": [
    "# Kiểm tra chiều của array \n",
    "print(arr_1d.ndim)\n",
    "print(arr_2d.ndim)\n",
    "print(arr_3d.ndim)"
   ]
  },
  {
   "cell_type": "code",
   "execution_count": 7,
   "id": "f6365368",
   "metadata": {},
   "outputs": [
    {
     "data": {
      "text/plain": [
       "3"
      ]
     },
     "execution_count": 7,
     "metadata": {},
     "output_type": "execute_result"
    }
   ],
   "source": [
    "# Access array by indexing \n",
    "# 1d \n",
    "arr_1d[2] # output: 3"
   ]
  },
  {
   "cell_type": "code",
   "execution_count": 8,
   "id": "888713a3",
   "metadata": {},
   "outputs": [
    {
     "data": {
      "text/plain": [
       "2"
      ]
     },
     "execution_count": 8,
     "metadata": {},
     "output_type": "execute_result"
    }
   ],
   "source": [
    "# 2d \n",
    "arr_2d[0, 1] # output: 2"
   ]
  },
  {
   "cell_type": "code",
   "execution_count": null,
   "id": "95290d3c",
   "metadata": {},
   "outputs": [],
   "source": [
    "# 3d \n"
   ]
  }
 ],
 "metadata": {
  "kernelspec": {
   "display_name": "Python 3 (ipykernel)",
   "language": "python",
   "name": "python3"
  },
  "language_info": {
   "codemirror_mode": {
    "name": "ipython",
    "version": 3
   },
   "file_extension": ".py",
   "mimetype": "text/x-python",
   "name": "python",
   "nbconvert_exporter": "python",
   "pygments_lexer": "ipython3",
   "version": "3.9.6"
  }
 },
 "nbformat": 4,
 "nbformat_minor": 5
}
