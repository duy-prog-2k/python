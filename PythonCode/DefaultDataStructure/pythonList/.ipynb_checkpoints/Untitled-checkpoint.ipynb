{
 "cells": [
  {
   "cell_type": "code",
   "execution_count": 1,
   "id": "168d6ae2",
   "metadata": {},
   "outputs": [
    {
     "data": {
      "text/plain": [
       "['apple', 'cherry', 'strawberry']"
      ]
     },
     "execution_count": 1,
     "metadata": {},
     "output_type": "execute_result"
    }
   ],
   "source": [
    "# List python cho phép các phần tử trùng lặp nhau và chúng ta có thể thay đổi các phần tử này (mutable)\n",
    "list_a = ['apple', 'cherry', 'strawberry']\n",
    "list_a"
   ]
  },
  {
   "cell_type": "code",
   "execution_count": 2,
   "id": "9b56f493",
   "metadata": {},
   "outputs": [
    {
     "data": {
      "text/plain": [
       "['apple', 'banana', 'strawberry']"
      ]
     },
     "execution_count": 2,
     "metadata": {},
     "output_type": "execute_result"
    }
   ],
   "source": [
    "list_a[1] = 'banana'\n",
    "list_a"
   ]
  },
  {
   "cell_type": "code",
   "execution_count": 3,
   "id": "ffe63c9e",
   "metadata": {},
   "outputs": [
    {
     "data": {
      "text/plain": [
       "3"
      ]
     },
     "execution_count": 3,
     "metadata": {},
     "output_type": "execute_result"
    }
   ],
   "source": [
    "# Sử dụng hàm len để lấy chiều dài của List \n",
    "len(list_a)"
   ]
  },
  {
   "cell_type": "code",
   "execution_count": 4,
   "id": "f6c9cfbe",
   "metadata": {},
   "outputs": [
    {
     "data": {
      "text/plain": [
       "['Pham', 'Khac', 'Duy']"
      ]
     },
     "execution_count": 4,
     "metadata": {},
     "output_type": "execute_result"
    }
   ],
   "source": [
    "# Sử dụng constructor để tạo 1 list \n",
    "list_constructor = list(('Pham', 'Khac', 'Duy'))\n",
    "list_constructor"
   ]
  },
  {
   "cell_type": "code",
   "execution_count": 5,
   "id": "00c1b81d",
   "metadata": {},
   "outputs": [
    {
     "data": {
      "text/plain": [
       "['Pham', 'Khac', 'Duy', 'Dep']"
      ]
     },
     "execution_count": 5,
     "metadata": {},
     "output_type": "execute_result"
    }
   ],
   "source": [
    "# Thêm một phần tử mới vào list \n",
    "list_constructor.append('Dep')\n",
    "list_constructor"
   ]
  },
  {
   "cell_type": "code",
   "execution_count": 6,
   "id": "b031baeb",
   "metadata": {},
   "outputs": [
    {
     "data": {
      "text/plain": [
       "['Pham', 'Van', 'Khac', 'Duy', 'Dep']"
      ]
     },
     "execution_count": 6,
     "metadata": {},
     "output_type": "execute_result"
    }
   ],
   "source": [
    "# Thêm một phần tử mới vào vị trí cụ thể \n",
    "list_constructor.insert(1, 'Van')\n",
    "list_constructor"
   ]
  },
  {
   "cell_type": "code",
   "execution_count": 7,
   "id": "8c589e35",
   "metadata": {},
   "outputs": [
    {
     "data": {
      "text/plain": [
       "['apple', 'banana', 'strawberry', 'Pham', 'Van', 'Khac', 'Duy', 'Dep']"
      ]
     },
     "execution_count": 7,
     "metadata": {},
     "output_type": "execute_result"
    }
   ],
   "source": [
    "# Nối 2 list sử dụng extend \n",
    "list_a.extend(list_constructor)\n",
    "list_a"
   ]
  },
  {
   "cell_type": "code",
   "execution_count": 8,
   "id": "c3b405cd",
   "metadata": {},
   "outputs": [
    {
     "data": {
      "text/plain": [
       "['Nguyen', 'Teo']"
      ]
     },
     "execution_count": 8,
     "metadata": {},
     "output_type": "execute_result"
    }
   ],
   "source": [
    "# Xóa một phần tử cụ thể bằng value\n",
    "list_item = ['Nguyen', 'Van', 'Teo']\n",
    "\n",
    "list_item_copy = list_item.copy()\n",
    "list_item_copy.remove('Van')\n",
    "list_item_copy"
   ]
  },
  {
   "cell_type": "code",
   "execution_count": 9,
   "id": "8abfaff2",
   "metadata": {},
   "outputs": [
    {
     "data": {
      "text/plain": [
       "['Nguyen', 'Van']"
      ]
     },
     "execution_count": 9,
     "metadata": {},
     "output_type": "execute_result"
    }
   ],
   "source": [
    "# Xóa một phần tử cụ thể bằng index\n",
    "list_item_clone = list_item.copy()\n",
    "\n",
    "list_item_clone.pop(2)\n",
    "list_item_clone"
   ]
  },
  {
   "cell_type": "code",
   "execution_count": 10,
   "id": "ac56ceb8",
   "metadata": {},
   "outputs": [
    {
     "data": {
      "text/plain": [
       "[2, 3, 4]"
      ]
     },
     "execution_count": 10,
     "metadata": {},
     "output_type": "execute_result"
    }
   ],
   "source": [
    "# del keywork \n",
    "new_list = [1, 2, 3, 4]\n",
    "del new_list[0]\n",
    "new_list"
   ]
  }
 ],
 "metadata": {
  "kernelspec": {
   "display_name": "Python 3 (ipykernel)",
   "language": "python",
   "name": "python3"
  },
  "language_info": {
   "codemirror_mode": {
    "name": "ipython",
    "version": 3
   },
   "file_extension": ".py",
   "mimetype": "text/x-python",
   "name": "python",
   "nbconvert_exporter": "python",
   "pygments_lexer": "ipython3",
   "version": "3.9.6"
  }
 },
 "nbformat": 4,
 "nbformat_minor": 5
}
