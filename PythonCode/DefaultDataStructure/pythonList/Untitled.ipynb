{
 "cells": [
  {
   "cell_type": "code",
   "execution_count": 3,
   "source": [
    "# List python cho phép các phần tử trùng lặp nhau và chúng ta có thể thay đổi các phần tử này (mutable)\r\n",
    "list_a = ['apple', 'cherry', 'strawberry']\r\n",
    "list_a"
   ],
   "outputs": [
    {
     "output_type": "execute_result",
     "data": {
      "text/plain": [
       "['apple', 'cherry', 'strawberry']"
      ]
     },
     "metadata": {},
     "execution_count": 3
    }
   ],
   "metadata": {}
  },
  {
   "cell_type": "code",
   "execution_count": 4,
   "source": [
    "list_a[1] = 'banana'\r\n",
    "list_a"
   ],
   "outputs": [
    {
     "output_type": "execute_result",
     "data": {
      "text/plain": [
       "['apple', 'banana', 'strawberry']"
      ]
     },
     "metadata": {},
     "execution_count": 4
    }
   ],
   "metadata": {}
  },
  {
   "cell_type": "code",
   "execution_count": 5,
   "source": [
    "# Sử dụng hàm len để lấy chiều dài của List \r\n",
    "len(list_a)"
   ],
   "outputs": [
    {
     "output_type": "execute_result",
     "data": {
      "text/plain": [
       "3"
      ]
     },
     "metadata": {},
     "execution_count": 5
    }
   ],
   "metadata": {}
  },
  {
   "cell_type": "code",
   "execution_count": 6,
   "source": [
    "# Sử dụng constructor để tạo 1 list \r\n",
    "list_constructor = list(('Pham', 'Khac', 'Duy'))\r\n",
    "list_constructor"
   ],
   "outputs": [
    {
     "output_type": "execute_result",
     "data": {
      "text/plain": [
       "['Pham', 'Khac', 'Duy']"
      ]
     },
     "metadata": {},
     "execution_count": 6
    }
   ],
   "metadata": {}
  },
  {
   "cell_type": "code",
   "execution_count": 7,
   "source": [
    "# Thêm một phần tử mới vào list \r\n",
    "list_constructor.append('Dep')\r\n",
    "list_constructor"
   ],
   "outputs": [
    {
     "output_type": "execute_result",
     "data": {
      "text/plain": [
       "['Pham', 'Khac', 'Duy', 'Dep']"
      ]
     },
     "metadata": {},
     "execution_count": 7
    }
   ],
   "metadata": {}
  },
  {
   "cell_type": "code",
   "execution_count": 8,
   "source": [
    "# Thêm một phần tử mới vào vị trí cụ thể \r\n",
    "list_constructor.insert(1, 'Van')\r\n",
    "list_constructor"
   ],
   "outputs": [
    {
     "output_type": "execute_result",
     "data": {
      "text/plain": [
       "['Pham', 'Van', 'Khac', 'Duy', 'Dep']"
      ]
     },
     "metadata": {},
     "execution_count": 8
    }
   ],
   "metadata": {}
  },
  {
   "cell_type": "code",
   "execution_count": 9,
   "source": [
    "# Nối 2 list sử dụng extend \r\n",
    "list_a.extend(list_constructor)\r\n",
    "list_a"
   ],
   "outputs": [
    {
     "output_type": "execute_result",
     "data": {
      "text/plain": [
       "['apple', 'banana', 'strawberry', 'Pham', 'Van', 'Khac', 'Duy', 'Dep']"
      ]
     },
     "metadata": {},
     "execution_count": 9
    }
   ],
   "metadata": {}
  },
  {
   "cell_type": "code",
   "execution_count": 10,
   "source": [
    "# Xóa một phần tử cụ thể bằng value\r\n",
    "list_item = ['Nguyen', 'Van', 'Teo']\r\n",
    "\r\n",
    "list_item_copy = list_item.copy()\r\n",
    "list_item_copy.remove('Van')\r\n",
    "list_item_copy"
   ],
   "outputs": [
    {
     "output_type": "execute_result",
     "data": {
      "text/plain": [
       "['Nguyen', 'Teo']"
      ]
     },
     "metadata": {},
     "execution_count": 10
    }
   ],
   "metadata": {}
  },
  {
   "cell_type": "code",
   "execution_count": 11,
   "source": [
    "# Xóa một phần tử cụ thể bằng index\r\n",
    "list_item_clone = list_item.copy()\r\n",
    "\r\n",
    "list_item_clone.pop(2)\r\n",
    "list_item_clone"
   ],
   "outputs": [
    {
     "output_type": "execute_result",
     "data": {
      "text/plain": [
       "['Nguyen', 'Van']"
      ]
     },
     "metadata": {},
     "execution_count": 11
    }
   ],
   "metadata": {}
  },
  {
   "cell_type": "code",
   "execution_count": 12,
   "source": [
    "# del keywork \r\n",
    "new_list = [1, 2, 3, 4]\r\n",
    "del new_list[0]\r\n",
    "new_list"
   ],
   "outputs": [
    {
     "output_type": "execute_result",
     "data": {
      "text/plain": [
       "[2, 3, 4]"
      ]
     },
     "metadata": {},
     "execution_count": 12
    }
   ],
   "metadata": {}
  },
  {
   "cell_type": "code",
   "execution_count": 13,
   "source": [
    "# Nếu sử dụng del new_list thì nó sẽ xóa toàn bộ và ko thể sử dụng được tiếp\r\n",
    "# Có một cách khác là sử dụng clear(), method này sẽ return về một mảng rỗng\r\n",
    "new_list.clear()\r\n",
    "print(new_list)"
   ],
   "outputs": [
    {
     "output_type": "stream",
     "name": "stdout",
     "text": [
      "[]\n"
     ]
    }
   ],
   "metadata": {}
  },
  {
   "cell_type": "code",
   "execution_count": 14,
   "source": [
    "# Chúng ta không thể gán list1 = list 2 để sử dụng vì list1 chỉ là tham chiếu của list 2\r\n",
    "# Nếu list1 có thay đổi thì list 2 cũng bị thay đổi theo\r\n",
    "# Thay vào đó thì sử dụng copy \r\n",
    "thislist = [1, 2, 3, 4, 5] \r\n",
    "thislist_clone1 = thislist.copy()\r\n",
    "# Hoặc \r\n",
    "thislist_clone2 = list(thislist)\r\n",
    "list_to_add = [3, 2, 4]\r\n",
    "print(thislist_clone1 + list_to_add) "
   ],
   "outputs": [
    {
     "output_type": "stream",
     "name": "stdout",
     "text": [
      "[1, 2, 3, 4, 5, 3, 2, 4]\n"
     ]
    }
   ],
   "metadata": {}
  },
  {
   "cell_type": "code",
   "execution_count": 15,
   "source": [
    "# List comprehension \r\n",
    "# syntax for list comprehension: \r\n",
    "# newlist = [expression for item in iterable if condition == True]\r\n",
    "number = [1, 2, 3, 4, 5, 6, 7, 8]\r\n",
    "even_number = [x for x in number if x % 2 == 0]\r\n",
    "even_number"
   ],
   "outputs": [
    {
     "output_type": "execute_result",
     "data": {
      "text/plain": [
       "[2, 4, 6, 8]"
      ]
     },
     "metadata": {},
     "execution_count": 15
    }
   ],
   "metadata": {}
  }
 ],
 "metadata": {
  "kernelspec": {
   "name": "python3",
   "display_name": "Python 3.9.6 64-bit"
  },
  "language_info": {
   "codemirror_mode": {
    "name": "ipython",
    "version": 3
   },
   "file_extension": ".py",
   "mimetype": "text/x-python",
   "name": "python",
   "nbconvert_exporter": "python",
   "pygments_lexer": "ipython3",
   "version": "3.9.6"
  },
  "interpreter": {
   "hash": "e96f3d9d46cdefc766ed1dad262ce64f87c4240b59b297a62a5fcd113f6a3a34"
  }
 },
 "nbformat": 4,
 "nbformat_minor": 5
}