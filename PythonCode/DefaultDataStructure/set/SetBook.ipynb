{
 "cells": [
  {
   "cell_type": "markdown",
   "source": [
    "### Khái niệm set "
   ],
   "metadata": {}
  },
  {
   "cell_type": "markdown",
   "source": [
    "Sets are used to store multiple items in a single variable.\r\n",
    "Set is one of 4 built-in data types in Python used to store collections of data, the other 3 are List, Tuple, and Dictionary, all with different qualities and usage.\r\n",
    "\r\n",
    "* A set is a collection which is both unordered and unindexed.\r\n",
    "* Sets are written with curly brackets.\r\n",
    "* Set items are unordered, unchangeable, and do not allow duplicate values.\r\n",
    "* Set items can appear in a different order every time you use them, and cannot be referred to by index or key.\r\n",
    "* Duplicate is not allowed \r\n",
    " *Can't change the items after the set has been created but can add new item get length like list and tuple access using for loop"
   ],
   "metadata": {}
  },
  {
   "cell_type": "code",
   "execution_count": 20,
   "source": [
    "set_a = {'apple', 'banana', 'orange'}"
   ],
   "outputs": [],
   "metadata": {}
  },
  {
   "cell_type": "code",
   "execution_count": 21,
   "source": [
    "# add item using add method\r\n",
    "set_a.add('lemon') # can't add banana bc set doesnt allow duplicate value \r\n",
    "set_a"
   ],
   "outputs": [
    {
     "output_type": "execute_result",
     "data": {
      "text/plain": [
       "{'apple', 'banana', 'lemon', 'orange'}"
      ]
     },
     "metadata": {},
     "execution_count": 21
    }
   ],
   "metadata": {}
  },
  {
   "cell_type": "code",
   "execution_count": 22,
   "source": [
    "# add item from another iterable like list, set \r\n",
    "set_b = {'kiwi', 'sugar'}\r\n",
    "set_a_clone = set_a.copy()\r\n",
    "set_a_clone.update(set_b)\r\n",
    "set_a_clone"
   ],
   "outputs": [
    {
     "output_type": "execute_result",
     "data": {
      "text/plain": [
       "{'apple', 'banana', 'kiwi', 'lemon', 'orange', 'sugar'}"
      ]
     },
     "metadata": {},
     "execution_count": 22
    }
   ],
   "metadata": {}
  },
  {
   "cell_type": "code",
   "execution_count": 23,
   "source": [
    "# Remove item using remove or discard\r\n",
    "# Remove item using remove \r\n",
    "# if item which is deleted not exists, remove() will raise an error \r\n",
    "set_a_clone.remove('lemon') \r\n",
    "set_a_clone"
   ],
   "outputs": [
    {
     "output_type": "execute_result",
     "data": {
      "text/plain": [
       "{'apple', 'banana', 'kiwi', 'orange', 'sugar'}"
      ]
     },
     "metadata": {},
     "execution_count": 23
    }
   ],
   "metadata": {}
  },
  {
   "cell_type": "code",
   "execution_count": 24,
   "source": [
    "# Remove item using discard \r\n",
    "# if item which is deleted not exists, remove() will not raise an error \r\n",
    "set_a_clone.discard('lemon') \r\n"
   ],
   "outputs": [],
   "metadata": {}
  },
  {
   "cell_type": "code",
   "execution_count": 26,
   "source": [
    "# Case deleted the item not exist by remove \r\n",
    "set_a_clone.remove('lemon')"
   ],
   "outputs": [
    {
     "output_type": "error",
     "ename": "KeyError",
     "evalue": "'lemon'",
     "traceback": [
      "\u001b[1;31m---------------------------------------------------------------------------\u001b[0m",
      "\u001b[1;31mKeyError\u001b[0m                                  Traceback (most recent call last)",
      "\u001b[1;32m~\\AppData\\Local\\Temp/ipykernel_17536/2730513653.py\u001b[0m in \u001b[0;36m<module>\u001b[1;34m\u001b[0m\n\u001b[0;32m      1\u001b[0m \u001b[1;31m# Case deleted the item not exist by remove\u001b[0m\u001b[1;33m\u001b[0m\u001b[1;33m\u001b[0m\u001b[1;33m\u001b[0m\u001b[0m\n\u001b[1;32m----> 2\u001b[1;33m \u001b[0mset_a_clone\u001b[0m\u001b[1;33m.\u001b[0m\u001b[0mremove\u001b[0m\u001b[1;33m(\u001b[0m\u001b[1;34m'lemon'\u001b[0m\u001b[1;33m)\u001b[0m\u001b[1;33m\u001b[0m\u001b[1;33m\u001b[0m\u001b[0m\n\u001b[0m",
      "\u001b[1;31mKeyError\u001b[0m: 'lemon'"
     ]
    }
   ],
   "metadata": {}
  },
  {
   "cell_type": "markdown",
   "source": [
    "### Method\tDescription\r\n",
    "- add()\tAdds an element to the set\r\n",
    "- clear()\tRemoves all the elements from the set\r\n",
    "- copy()\tReturns a copy of the set\r\n",
    "- difference()\tReturns a set containing the difference between two or more sets\r\n",
    "- difference_update()\tRemoves the items in this set that are also included in another, specified set\r\n",
    "- discard()\tRemove the specified item\r\n",
    "- intersection()\tReturns a set, that is the intersection of two other sets\r\n",
    "- intersection_update()\tRemoves the items in this set that are not present in other, specified set(s)\r\n",
    "- isdisjoint()\tReturns whether two sets have a intersection or not\r\n",
    "- issubset()\tReturns whether another set contains this set or not\r\n",
    "- issuperset()\tReturns whether this set contains another set or not\r\n",
    "- pop()\tRemoves an element from the set\r\n",
    "- remove()\tRemoves the specified element\r\n",
    "- symmetric_difference()\tReturns a set with the symmetric differences of two sets\r\n",
    "- symmetric_difference_update()\tinserts the symmetric differences from this set and another\r\n",
    "- union()\tReturn a set containing the union of sets\r\n",
    "- update()\tUpdate the set with the union of this set and others`"
   ],
   "metadata": {}
  }
 ],
 "metadata": {
  "orig_nbformat": 4,
  "language_info": {
   "name": "python",
   "version": "3.9.6",
   "mimetype": "text/x-python",
   "codemirror_mode": {
    "name": "ipython",
    "version": 3
   },
   "pygments_lexer": "ipython3",
   "nbconvert_exporter": "python",
   "file_extension": ".py"
  },
  "kernelspec": {
   "name": "python3",
   "display_name": "Python 3.9.6 64-bit"
  },
  "interpreter": {
   "hash": "e96f3d9d46cdefc766ed1dad262ce64f87c4240b59b297a62a5fcd113f6a3a34"
  }
 },
 "nbformat": 4,
 "nbformat_minor": 2
}